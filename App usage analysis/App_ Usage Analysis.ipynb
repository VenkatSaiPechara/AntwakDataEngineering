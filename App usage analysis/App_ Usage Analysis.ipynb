{
 "cells": [
  {
   "cell_type": "code",
   "execution_count": 1,
   "metadata": {},
   "outputs": [],
   "source": [
    "import pandas as pd\n",
    "import numpy as np\n",
    "import matplotlib.pyplot as plt\n",
    "import seaborn as sns"
   ]
  },
  {
   "cell_type": "code",
   "execution_count": 2,
   "metadata": {},
   "outputs": [],
   "source": [
    "d= pd.read_csv(\"User_activity.txt\")"
   ]
  },
  {
   "cell_type": "code",
   "execution_count": 3,
   "metadata": {},
   "outputs": [],
   "source": [
    "df=d.transpose()"
   ]
  },
  {
   "cell_type": "code",
   "execution_count": 4,
   "metadata": {},
   "outputs": [],
   "source": [
    "df=df.drop_duplicates()"
   ]
  },
  {
   "cell_type": "code",
   "execution_count": 5,
   "metadata": {},
   "outputs": [],
   "source": [
    "df_1=df.rename(columns=df.iloc[0])"
   ]
  },
  {
   "cell_type": "code",
   "execution_count": 6,
   "metadata": {},
   "outputs": [],
   "source": [
    "df_1=df_1.iloc[1:,:]"
   ]
  },
  {
   "cell_type": "markdown",
   "metadata": {},
   "source": [
    "Dataframe df_1 formed from text file"
   ]
  },
  {
   "cell_type": "code",
   "execution_count": 7,
   "metadata": {},
   "outputs": [
    {
     "data": {
      "text/html": [
       "<div>\n",
       "<style scoped>\n",
       "    .dataframe tbody tr th:only-of-type {\n",
       "        vertical-align: middle;\n",
       "    }\n",
       "\n",
       "    .dataframe tbody tr th {\n",
       "        vertical-align: top;\n",
       "    }\n",
       "\n",
       "    .dataframe thead th {\n",
       "        text-align: right;\n",
       "    }\n",
       "</style>\n",
       "<table border=\"1\" class=\"dataframe\">\n",
       "  <thead>\n",
       "    <tr style=\"text-align: right;\">\n",
       "      <th></th>\n",
       "      <th>device_id</th>\n",
       "      <th>app_name</th>\n",
       "      <th>minutes</th>\n",
       "    </tr>\n",
       "  </thead>\n",
       "  <tbody>\n",
       "    <tr>\n",
       "      <td>0</td>\n",
       "      <td>B-52-23845</td>\n",
       "      <td>Snapchat (Mobile App)</td>\n",
       "      <td>27.9342</td>\n",
       "    </tr>\n",
       "    <tr>\n",
       "      <td>1</td>\n",
       "      <td>B-52-16587</td>\n",
       "      <td>Pinterest (Mobile App)</td>\n",
       "      <td>14.6664</td>\n",
       "    </tr>\n",
       "    <tr>\n",
       "      <td>2</td>\n",
       "      <td>B-52-36461</td>\n",
       "      <td>Facebook (Mobile App)</td>\n",
       "      <td>439.7652</td>\n",
       "    </tr>\n",
       "    <tr>\n",
       "      <td>3</td>\n",
       "      <td>B-52-29089</td>\n",
       "      <td>Yahoo Mail (Mobile App)</td>\n",
       "      <td>900.6606</td>\n",
       "    </tr>\n",
       "    <tr>\n",
       "      <td>4</td>\n",
       "      <td>B-52-14212</td>\n",
       "      <td>Netflix (Mobile App)</td>\n",
       "      <td>17.3502</td>\n",
       "    </tr>\n",
       "    <tr>\n",
       "      <td>...</td>\n",
       "      <td>...</td>\n",
       "      <td>...</td>\n",
       "      <td>...</td>\n",
       "    </tr>\n",
       "    <tr>\n",
       "      <td>22435</td>\n",
       "      <td>B-52-12331</td>\n",
       "      <td>Pinterest (Mobile App)</td>\n",
       "      <td>88.5276</td>\n",
       "    </tr>\n",
       "    <tr>\n",
       "      <td>22436</td>\n",
       "      <td>B-52-33231</td>\n",
       "      <td>Facebook Messenger (Mobile App)</td>\n",
       "      <td>199.3194</td>\n",
       "    </tr>\n",
       "    <tr>\n",
       "      <td>22437</td>\n",
       "      <td>B-52-46037</td>\n",
       "      <td>Outlook (Mobile App)</td>\n",
       "      <td>52.5042</td>\n",
       "    </tr>\n",
       "    <tr>\n",
       "      <td>22438</td>\n",
       "      <td>B-52-16131</td>\n",
       "      <td>Google Search (Mobile App)</td>\n",
       "      <td>1.89</td>\n",
       "    </tr>\n",
       "    <tr>\n",
       "      <td>22439</td>\n",
       "      <td>B-52-50027</td>\n",
       "      <td>Facebook Messenger (Mobile App)</td>\n",
       "      <td>464.8644</td>\n",
       "    </tr>\n",
       "  </tbody>\n",
       "</table>\n",
       "<p>22440 rows × 3 columns</p>\n",
       "</div>"
      ],
      "text/plain": [
       "        device_id                         app_name   minutes\n",
       "0      B-52-23845            Snapchat (Mobile App)   27.9342\n",
       "1      B-52-16587           Pinterest (Mobile App)   14.6664\n",
       "2      B-52-36461            Facebook (Mobile App)  439.7652\n",
       "3      B-52-29089          Yahoo Mail (Mobile App)  900.6606\n",
       "4      B-52-14212             Netflix (Mobile App)   17.3502\n",
       "...           ...                              ...       ...\n",
       "22435  B-52-12331           Pinterest (Mobile App)   88.5276\n",
       "22436  B-52-33231  Facebook Messenger (Mobile App)  199.3194\n",
       "22437  B-52-46037             Outlook (Mobile App)   52.5042\n",
       "22438  B-52-16131       Google Search (Mobile App)      1.89\n",
       "22439  B-52-50027  Facebook Messenger (Mobile App)  464.8644\n",
       "\n",
       "[22440 rows x 3 columns]"
      ]
     },
     "execution_count": 7,
     "metadata": {},
     "output_type": "execute_result"
    }
   ],
   "source": [
    "df_1"
   ]
  },
  {
   "cell_type": "code",
   "execution_count": 8,
   "metadata": {},
   "outputs": [],
   "source": [
    "demog=pd.read_csv(\"device_demographics.csv\")"
   ]
  },
  {
   "cell_type": "code",
   "execution_count": 9,
   "metadata": {},
   "outputs": [],
   "source": [
    "df1=pd.merge(df_1,demog,how='inner',on='device_id')"
   ]
  },
  {
   "cell_type": "code",
   "execution_count": 10,
   "metadata": {},
   "outputs": [
    {
     "data": {
      "text/html": [
       "<div>\n",
       "<style scoped>\n",
       "    .dataframe tbody tr th:only-of-type {\n",
       "        vertical-align: middle;\n",
       "    }\n",
       "\n",
       "    .dataframe tbody tr th {\n",
       "        vertical-align: top;\n",
       "    }\n",
       "\n",
       "    .dataframe thead th {\n",
       "        text-align: right;\n",
       "    }\n",
       "</style>\n",
       "<table border=\"1\" class=\"dataframe\">\n",
       "  <thead>\n",
       "    <tr style=\"text-align: right;\">\n",
       "      <th></th>\n",
       "      <th>device_id</th>\n",
       "      <th>app_name</th>\n",
       "      <th>minutes</th>\n",
       "      <th>gender_id</th>\n",
       "    </tr>\n",
       "  </thead>\n",
       "  <tbody>\n",
       "    <tr>\n",
       "      <td>0</td>\n",
       "      <td>B-52-23845</td>\n",
       "      <td>Snapchat (Mobile App)</td>\n",
       "      <td>27.9342</td>\n",
       "      <td>2.0</td>\n",
       "    </tr>\n",
       "    <tr>\n",
       "      <td>1</td>\n",
       "      <td>B-52-23845</td>\n",
       "      <td>Pinterest (Mobile App)</td>\n",
       "      <td>5.5188</td>\n",
       "      <td>2.0</td>\n",
       "    </tr>\n",
       "    <tr>\n",
       "      <td>2</td>\n",
       "      <td>B-52-23845</td>\n",
       "      <td>Instagram (Mobile App)</td>\n",
       "      <td>867.132</td>\n",
       "      <td>2.0</td>\n",
       "    </tr>\n",
       "    <tr>\n",
       "      <td>3</td>\n",
       "      <td>B-52-23845</td>\n",
       "      <td>Tumblr (Mobile App)</td>\n",
       "      <td>184.8042</td>\n",
       "      <td>2.0</td>\n",
       "    </tr>\n",
       "    <tr>\n",
       "      <td>4</td>\n",
       "      <td>B-52-23845</td>\n",
       "      <td>YouTube (Mobile App)</td>\n",
       "      <td>69.6276</td>\n",
       "      <td>2.0</td>\n",
       "    </tr>\n",
       "    <tr>\n",
       "      <td>...</td>\n",
       "      <td>...</td>\n",
       "      <td>...</td>\n",
       "      <td>...</td>\n",
       "      <td>...</td>\n",
       "    </tr>\n",
       "    <tr>\n",
       "      <td>22435</td>\n",
       "      <td>B-52-1368</td>\n",
       "      <td>Google Play (Mobile App)</td>\n",
       "      <td>31.9032</td>\n",
       "      <td>2.0</td>\n",
       "    </tr>\n",
       "    <tr>\n",
       "      <td>22436</td>\n",
       "      <td>B-52-10203</td>\n",
       "      <td>YouTube (Mobile App)</td>\n",
       "      <td>4.2336</td>\n",
       "      <td>1.0</td>\n",
       "    </tr>\n",
       "    <tr>\n",
       "      <td>22437</td>\n",
       "      <td>B-52-10203</td>\n",
       "      <td>Netflix (Mobile App)</td>\n",
       "      <td>7.8246</td>\n",
       "      <td>1.0</td>\n",
       "    </tr>\n",
       "    <tr>\n",
       "      <td>22438</td>\n",
       "      <td>B-52-10203</td>\n",
       "      <td>Kindle (Mobile App)</td>\n",
       "      <td>1632.7332</td>\n",
       "      <td>1.0</td>\n",
       "    </tr>\n",
       "    <tr>\n",
       "      <td>22439</td>\n",
       "      <td>B-52-10203</td>\n",
       "      <td>Google Play (Mobile App)</td>\n",
       "      <td>3.969</td>\n",
       "      <td>1.0</td>\n",
       "    </tr>\n",
       "  </tbody>\n",
       "</table>\n",
       "<p>22440 rows × 4 columns</p>\n",
       "</div>"
      ],
      "text/plain": [
       "        device_id                  app_name    minutes  gender_id\n",
       "0      B-52-23845     Snapchat (Mobile App)    27.9342        2.0\n",
       "1      B-52-23845    Pinterest (Mobile App)     5.5188        2.0\n",
       "2      B-52-23845    Instagram (Mobile App)    867.132        2.0\n",
       "3      B-52-23845       Tumblr (Mobile App)   184.8042        2.0\n",
       "4      B-52-23845      YouTube (Mobile App)    69.6276        2.0\n",
       "...           ...                       ...        ...        ...\n",
       "22435   B-52-1368  Google Play (Mobile App)    31.9032        2.0\n",
       "22436  B-52-10203      YouTube (Mobile App)     4.2336        1.0\n",
       "22437  B-52-10203      Netflix (Mobile App)     7.8246        1.0\n",
       "22438  B-52-10203       Kindle (Mobile App)  1632.7332        1.0\n",
       "22439  B-52-10203  Google Play (Mobile App)      3.969        1.0\n",
       "\n",
       "[22440 rows x 4 columns]"
      ]
     },
     "execution_count": 10,
     "metadata": {},
     "output_type": "execute_result"
    }
   ],
   "source": [
    "df1"
   ]
  },
  {
   "cell_type": "code",
   "execution_count": 11,
   "metadata": {},
   "outputs": [],
   "source": [
    "publish=pd.read_csv(\"publishers.csv\")"
   ]
  },
  {
   "cell_type": "code",
   "execution_count": 12,
   "metadata": {},
   "outputs": [],
   "source": [
    "data=pd.merge(df1,publish,how='inner',on='app_name')"
   ]
  },
  {
   "cell_type": "markdown",
   "metadata": {},
   "source": [
    "Final dataframe 'data' after merging three files"
   ]
  },
  {
   "cell_type": "code",
   "execution_count": 13,
   "metadata": {},
   "outputs": [
    {
     "data": {
      "text/html": [
       "<div>\n",
       "<style scoped>\n",
       "    .dataframe tbody tr th:only-of-type {\n",
       "        vertical-align: middle;\n",
       "    }\n",
       "\n",
       "    .dataframe tbody tr th {\n",
       "        vertical-align: top;\n",
       "    }\n",
       "\n",
       "    .dataframe thead th {\n",
       "        text-align: right;\n",
       "    }\n",
       "</style>\n",
       "<table border=\"1\" class=\"dataframe\">\n",
       "  <thead>\n",
       "    <tr style=\"text-align: right;\">\n",
       "      <th></th>\n",
       "      <th>device_id</th>\n",
       "      <th>app_name</th>\n",
       "      <th>minutes</th>\n",
       "      <th>gender_id</th>\n",
       "      <th>Publisher</th>\n",
       "    </tr>\n",
       "  </thead>\n",
       "  <tbody>\n",
       "    <tr>\n",
       "      <td>0</td>\n",
       "      <td>B-52-23845</td>\n",
       "      <td>Snapchat (Mobile App)</td>\n",
       "      <td>27.9342</td>\n",
       "      <td>2.0</td>\n",
       "      <td>Snapchat, Inc</td>\n",
       "    </tr>\n",
       "    <tr>\n",
       "      <td>1</td>\n",
       "      <td>B-52-36461</td>\n",
       "      <td>Snapchat (Mobile App)</td>\n",
       "      <td>183.9348</td>\n",
       "      <td>2.0</td>\n",
       "      <td>Snapchat, Inc</td>\n",
       "    </tr>\n",
       "    <tr>\n",
       "      <td>2</td>\n",
       "      <td>B-52-29089</td>\n",
       "      <td>Snapchat (Mobile App)</td>\n",
       "      <td>309.2418</td>\n",
       "      <td>2.0</td>\n",
       "      <td>Snapchat, Inc</td>\n",
       "    </tr>\n",
       "    <tr>\n",
       "      <td>3</td>\n",
       "      <td>B-52-30970</td>\n",
       "      <td>Snapchat (Mobile App)</td>\n",
       "      <td>4.914</td>\n",
       "      <td>1.0</td>\n",
       "      <td>Snapchat, Inc</td>\n",
       "    </tr>\n",
       "    <tr>\n",
       "      <td>4</td>\n",
       "      <td>B-52-12407</td>\n",
       "      <td>Snapchat (Mobile App)</td>\n",
       "      <td>306.5202</td>\n",
       "      <td>2.0</td>\n",
       "      <td>Snapchat, Inc</td>\n",
       "    </tr>\n",
       "    <tr>\n",
       "      <td>...</td>\n",
       "      <td>...</td>\n",
       "      <td>...</td>\n",
       "      <td>...</td>\n",
       "      <td>...</td>\n",
       "      <td>...</td>\n",
       "    </tr>\n",
       "    <tr>\n",
       "      <td>23402</td>\n",
       "      <td>B-52-26828</td>\n",
       "      <td>Sam's Club Scan &amp; Go (Mobile App)</td>\n",
       "      <td>1.0584</td>\n",
       "      <td>2.0</td>\n",
       "      <td>Wal-Mart</td>\n",
       "    </tr>\n",
       "    <tr>\n",
       "      <td>23403</td>\n",
       "      <td>B-52-50008</td>\n",
       "      <td>Sam's Club Scan &amp; Go (Mobile App)</td>\n",
       "      <td>24.759</td>\n",
       "      <td>2.0</td>\n",
       "      <td>Wal-Mart</td>\n",
       "    </tr>\n",
       "    <tr>\n",
       "      <td>23404</td>\n",
       "      <td>B-52-35568</td>\n",
       "      <td>Sam's Club Scan &amp; Go (Mobile App)</td>\n",
       "      <td>63.7686</td>\n",
       "      <td>1.0</td>\n",
       "      <td>Wal-Mart</td>\n",
       "    </tr>\n",
       "    <tr>\n",
       "      <td>23405</td>\n",
       "      <td>B-52-10336</td>\n",
       "      <td>Sam's Club Scan &amp; Go (Mobile App)</td>\n",
       "      <td>0.6048</td>\n",
       "      <td>1.0</td>\n",
       "      <td>Wal-Mart</td>\n",
       "    </tr>\n",
       "    <tr>\n",
       "      <td>23406</td>\n",
       "      <td>B-52-29431</td>\n",
       "      <td>Sam's Club Scan &amp; Go (Mobile App)</td>\n",
       "      <td>0.1134</td>\n",
       "      <td>2.0</td>\n",
       "      <td>Wal-Mart</td>\n",
       "    </tr>\n",
       "  </tbody>\n",
       "</table>\n",
       "<p>23407 rows × 5 columns</p>\n",
       "</div>"
      ],
      "text/plain": [
       "        device_id                           app_name   minutes  gender_id  \\\n",
       "0      B-52-23845              Snapchat (Mobile App)   27.9342        2.0   \n",
       "1      B-52-36461              Snapchat (Mobile App)  183.9348        2.0   \n",
       "2      B-52-29089              Snapchat (Mobile App)  309.2418        2.0   \n",
       "3      B-52-30970              Snapchat (Mobile App)     4.914        1.0   \n",
       "4      B-52-12407              Snapchat (Mobile App)  306.5202        2.0   \n",
       "...           ...                                ...       ...        ...   \n",
       "23402  B-52-26828  Sam's Club Scan & Go (Mobile App)    1.0584        2.0   \n",
       "23403  B-52-50008  Sam's Club Scan & Go (Mobile App)    24.759        2.0   \n",
       "23404  B-52-35568  Sam's Club Scan & Go (Mobile App)   63.7686        1.0   \n",
       "23405  B-52-10336  Sam's Club Scan & Go (Mobile App)    0.6048        1.0   \n",
       "23406  B-52-29431  Sam's Club Scan & Go (Mobile App)    0.1134        2.0   \n",
       "\n",
       "           Publisher  \n",
       "0      Snapchat, Inc  \n",
       "1      Snapchat, Inc  \n",
       "2      Snapchat, Inc  \n",
       "3      Snapchat, Inc  \n",
       "4      Snapchat, Inc  \n",
       "...              ...  \n",
       "23402       Wal-Mart  \n",
       "23403       Wal-Mart  \n",
       "23404       Wal-Mart  \n",
       "23405       Wal-Mart  \n",
       "23406       Wal-Mart  \n",
       "\n",
       "[23407 rows x 5 columns]"
      ]
     },
     "execution_count": 13,
     "metadata": {},
     "output_type": "execute_result"
    }
   ],
   "source": [
    "data"
   ]
  },
  {
   "cell_type": "code",
   "execution_count": 14,
   "metadata": {},
   "outputs": [],
   "source": [
    "data.drop_duplicates(inplace=True)"
   ]
  },
  {
   "cell_type": "code",
   "execution_count": 15,
   "metadata": {},
   "outputs": [],
   "source": [
    "\n",
    "data.reset_index(inplace=True)"
   ]
  },
  {
   "cell_type": "code",
   "execution_count": 16,
   "metadata": {},
   "outputs": [
    {
     "data": {
      "text/plain": [
       "index          int64\n",
       "device_id     object\n",
       "app_name      object\n",
       "minutes       object\n",
       "gender_id    float64\n",
       "Publisher     object\n",
       "dtype: object"
      ]
     },
     "execution_count": 16,
     "metadata": {},
     "output_type": "execute_result"
    }
   ],
   "source": [
    "data.dtypes"
   ]
  },
  {
   "cell_type": "markdown",
   "metadata": {},
   "source": [
    "converting minutes column into float"
   ]
  },
  {
   "cell_type": "code",
   "execution_count": 17,
   "metadata": {},
   "outputs": [],
   "source": [
    "data['minutes'] = data['minutes'].astype(float)"
   ]
  },
  {
   "cell_type": "code",
   "execution_count": 18,
   "metadata": {},
   "outputs": [
    {
     "data": {
      "text/plain": [
       "index          int64\n",
       "device_id     object\n",
       "app_name      object\n",
       "minutes      float64\n",
       "gender_id    float64\n",
       "Publisher     object\n",
       "dtype: object"
      ]
     },
     "execution_count": 18,
     "metadata": {},
     "output_type": "execute_result"
    }
   ],
   "source": [
    "data.dtypes"
   ]
  },
  {
   "cell_type": "code",
   "execution_count": 19,
   "metadata": {},
   "outputs": [
    {
     "data": {
      "text/html": [
       "<div>\n",
       "<style scoped>\n",
       "    .dataframe tbody tr th:only-of-type {\n",
       "        vertical-align: middle;\n",
       "    }\n",
       "\n",
       "    .dataframe tbody tr th {\n",
       "        vertical-align: top;\n",
       "    }\n",
       "\n",
       "    .dataframe thead th {\n",
       "        text-align: right;\n",
       "    }\n",
       "</style>\n",
       "<table border=\"1\" class=\"dataframe\">\n",
       "  <thead>\n",
       "    <tr style=\"text-align: right;\">\n",
       "      <th></th>\n",
       "      <th>index</th>\n",
       "      <th>minutes</th>\n",
       "      <th>gender_id</th>\n",
       "    </tr>\n",
       "  </thead>\n",
       "  <tbody>\n",
       "    <tr>\n",
       "      <td>count</td>\n",
       "      <td>22440.000000</td>\n",
       "      <td>21692.000000</td>\n",
       "      <td>21645.000000</td>\n",
       "    </tr>\n",
       "    <tr>\n",
       "      <td>mean</td>\n",
       "      <td>11468.094831</td>\n",
       "      <td>1061.745544</td>\n",
       "      <td>1.626657</td>\n",
       "    </tr>\n",
       "    <tr>\n",
       "      <td>std</td>\n",
       "      <td>6779.853047</td>\n",
       "      <td>2276.126489</td>\n",
       "      <td>0.483703</td>\n",
       "    </tr>\n",
       "    <tr>\n",
       "      <td>min</td>\n",
       "      <td>0.000000</td>\n",
       "      <td>0.037800</td>\n",
       "      <td>1.000000</td>\n",
       "    </tr>\n",
       "    <tr>\n",
       "      <td>25%</td>\n",
       "      <td>5609.750000</td>\n",
       "      <td>29.521800</td>\n",
       "      <td>1.000000</td>\n",
       "    </tr>\n",
       "    <tr>\n",
       "      <td>50%</td>\n",
       "      <td>11219.500000</td>\n",
       "      <td>164.335500</td>\n",
       "      <td>2.000000</td>\n",
       "    </tr>\n",
       "    <tr>\n",
       "      <td>75%</td>\n",
       "      <td>17576.250000</td>\n",
       "      <td>901.312650</td>\n",
       "      <td>2.000000</td>\n",
       "    </tr>\n",
       "    <tr>\n",
       "      <td>max</td>\n",
       "      <td>23406.000000</td>\n",
       "      <td>50897.435400</td>\n",
       "      <td>2.000000</td>\n",
       "    </tr>\n",
       "  </tbody>\n",
       "</table>\n",
       "</div>"
      ],
      "text/plain": [
       "              index       minutes     gender_id\n",
       "count  22440.000000  21692.000000  21645.000000\n",
       "mean   11468.094831   1061.745544      1.626657\n",
       "std     6779.853047   2276.126489      0.483703\n",
       "min        0.000000      0.037800      1.000000\n",
       "25%     5609.750000     29.521800      1.000000\n",
       "50%    11219.500000    164.335500      2.000000\n",
       "75%    17576.250000    901.312650      2.000000\n",
       "max    23406.000000  50897.435400      2.000000"
      ]
     },
     "execution_count": 19,
     "metadata": {},
     "output_type": "execute_result"
    }
   ],
   "source": [
    "data.describe()"
   ]
  },
  {
   "cell_type": "code",
   "execution_count": 20,
   "metadata": {},
   "outputs": [
    {
     "data": {
      "text/plain": [
       "index          0\n",
       "device_id      0\n",
       "app_name       0\n",
       "minutes      748\n",
       "gender_id    795\n",
       "Publisher      0\n",
       "dtype: int64"
      ]
     },
     "execution_count": 20,
     "metadata": {},
     "output_type": "execute_result"
    }
   ],
   "source": [
    "data.isnull().sum()"
   ]
  },
  {
   "cell_type": "markdown",
   "metadata": {},
   "source": [
    "##EDA"
   ]
  },
  {
   "cell_type": "code",
   "execution_count": 21,
   "metadata": {},
   "outputs": [
    {
     "data": {
      "text/plain": [
       "<matplotlib.axes._subplots.AxesSubplot at 0x199aef56908>"
      ]
     },
     "execution_count": 21,
     "metadata": {},
     "output_type": "execute_result"
    },
    {
     "data": {
      "image/png": "[encoded data removed]",
      "text/plain": [
       "<Figure size 432x288 with 1 Axes>"
      ]
     },
     "metadata": {
      "needs_background": "light"
     },
     "output_type": "display_data"
    }
   ],
   "source": [
    "data['minutes'].hist(bins=70)"
   ]
  },
  {
   "cell_type": "code",
   "execution_count": 22,
   "metadata": {
    "scrolled": true
   },
   "outputs": [
    {
     "data": {
      "text/plain": [
       "<matplotlib.axes._subplots.AxesSubplot at 0x199aee34a48>"
      ]
     },
     "execution_count": 22,
     "metadata": {},
     "output_type": "execute_result"
    },
    {
     "data": {
      "image/png": "[encoded data removed]",
      "text/plain": [
       "<Figure size 432x288 with 1 Axes>"
      ]
     },
     "metadata": {
      "needs_background": "light"
     },
     "output_type": "display_data"
    }
   ],
   "source": [
    "sns.boxplot(x='minutes',data=data)"
   ]
  },
  {
   "cell_type": "code",
   "execution_count": 23,
   "metadata": {},
   "outputs": [
    {
     "data": {
      "text/plain": [
       "<matplotlib.axes._subplots.AxesSubplot at 0x199aee87188>"
      ]
     },
     "execution_count": 23,
     "metadata": {},
     "output_type": "execute_result"
    },
    {
     "data": {
      "image/png": "[encoded data removed]",
      "text/plain": [
       "<Figure size 432x288 with 1 Axes>"
      ]
     },
     "metadata": {
      "needs_background": "light"
     },
     "output_type": "display_data"
    }
   ],
   "source": [
    "sns.boxplot(x='minutes',y='Publisher',data=data)"
   ]
  },
  {
   "cell_type": "code",
   "execution_count": 24,
   "metadata": {},
   "outputs": [
    {
     "data": {
      "text/plain": [
       "<matplotlib.axes._subplots.AxesSubplot at 0x199aec8a5c8>"
      ]
     },
     "execution_count": 24,
     "metadata": {},
     "output_type": "execute_result"
    },
    {
     "data": {
      "image/png": "[encoded data removed]",
      "text/plain": [
       "<Figure size 432x288 with 1 Axes>"
      ]
     },
     "metadata": {
      "needs_background": "light"
     },
     "output_type": "display_data"
    }
   ],
   "source": [
    "\n",
    "sns.barplot(y='Publisher',x='minutes',data=data,hue='gender_id')"
   ]
  },
  {
   "cell_type": "code",
   "execution_count": 25,
   "metadata": {},
   "outputs": [
    {
     "data": {
      "text/plain": [
       "<matplotlib.axes._subplots.AxesSubplot at 0x199aeb73548>"
      ]
     },
     "execution_count": 25,
     "metadata": {},
     "output_type": "execute_result"
    },
    {
     "data": {
      "image/png": "[encoded data removed]",
      "text/plain": [
       "<Figure size 432x288 with 1 Axes>"
      ]
     },
     "metadata": {
      "needs_background": "light"
     },
     "output_type": "display_data"
    }
   ],
   "source": [
    "sns.barplot(y='app_name',x='minutes',data=data,hue='gender_id')"
   ]
  },
  {
   "cell_type": "markdown",
   "metadata": {},
   "source": [
    "As mean of apps is drastically different from each other. So replacing null values with respective to their app_name"
   ]
  },
  {
   "cell_type": "code",
   "execution_count": 26,
   "metadata": {},
   "outputs": [],
   "source": [
    "apps=list(data['app_name'].unique())"
   ]
  },
  {
   "cell_type": "code",
   "execution_count": 27,
   "metadata": {},
   "outputs": [
    {
     "data": {
      "text/plain": [
       "['Snapchat (Mobile App)',\n",
       " 'Pinterest (Mobile App)',\n",
       " 'Instagram (Mobile App)',\n",
       " 'Tumblr (Mobile App)',\n",
       " 'YouTube (Mobile App)',\n",
       " 'Google Search (Mobile App)',\n",
       " 'Facebook Messenger (Mobile App)',\n",
       " 'Google Play (Mobile App)',\n",
       " 'Amazon Music with Prime Music (Mobile App)',\n",
       " 'Walmart (Mobile App)',\n",
       " 'Facebook (Mobile App)',\n",
       " 'Yahoo Mail (Mobile App)',\n",
       " 'Amazon Mobile (Mobile App)',\n",
       " 'Netflix (Mobile App)',\n",
       " 'Microsoft Word (Mobile App)',\n",
       " 'Yahoo Newsroom (Mobile App)',\n",
       " 'Kindle (Mobile App)',\n",
       " 'Outlook (Mobile App)',\n",
       " 'GroupMe (Mobile App)',\n",
       " \"Sam's Club (Mobile App)\",\n",
       " \"Sam's Club Scan & Go (Mobile App)\"]"
      ]
     },
     "execution_count": 27,
     "metadata": {},
     "output_type": "execute_result"
    }
   ],
   "source": [
    "apps"
   ]
  },
  {
   "cell_type": "code",
   "execution_count": 28,
   "metadata": {},
   "outputs": [],
   "source": [
    "mean_apps=pd.DataFrame(data.groupby('app_name').mean()['minutes'].sort_values(ascending=False))\n"
   ]
  },
  {
   "cell_type": "code",
   "execution_count": 29,
   "metadata": {},
   "outputs": [
    {
     "data": {
      "text/plain": [
       "3613.551220195168"
      ]
     },
     "execution_count": 29,
     "metadata": {},
     "output_type": "execute_result"
    }
   ],
   "source": [
    "mean_apps.iloc[:,0]['Facebook (Mobile App)']"
   ]
  },
  {
   "cell_type": "code",
   "execution_count": 30,
   "metadata": {},
   "outputs": [
    {
     "data": {
      "text/plain": [
       "nan"
      ]
     },
     "execution_count": 30,
     "metadata": {},
     "output_type": "execute_result"
    }
   ],
   "source": [
    "data['minutes'].values[20]"
   ]
  },
  {
   "cell_type": "code",
   "execution_count": 31,
   "metadata": {},
   "outputs": [],
   "source": [
    "for i in list(data[data['minutes'].isnull()].index):\n",
    "    app=data['app_name'].values[i]\n",
    "    data['minutes'].values[i]=mean_apps.iloc[:,0][app]"
   ]
  },
  {
   "cell_type": "code",
   "execution_count": 32,
   "metadata": {},
   "outputs": [
    {
     "data": {
      "text/plain": [
       "index          0\n",
       "device_id      0\n",
       "app_name       0\n",
       "minutes        0\n",
       "gender_id    795\n",
       "Publisher      0\n",
       "dtype: int64"
      ]
     },
     "execution_count": 32,
     "metadata": {},
     "output_type": "execute_result"
    }
   ],
   "source": [
    "data.isnull().sum()"
   ]
  },
  {
   "cell_type": "markdown",
   "metadata": {},
   "source": [
    "Replacing gender_id null values with mode of app_name"
   ]
  },
  {
   "cell_type": "code",
   "execution_count": 33,
   "metadata": {},
   "outputs": [],
   "source": [
    "crosstab=pd.crosstab(index=data[\"app_name\"],columns=data['gender_id'])"
   ]
  },
  {
   "cell_type": "code",
   "execution_count": 34,
   "metadata": {},
   "outputs": [
    {
     "data": {
      "text/html": [
       "<div>\n",
       "<style scoped>\n",
       "    .dataframe tbody tr th:only-of-type {\n",
       "        vertical-align: middle;\n",
       "    }\n",
       "\n",
       "    .dataframe tbody tr th {\n",
       "        vertical-align: top;\n",
       "    }\n",
       "\n",
       "    .dataframe thead th {\n",
       "        text-align: right;\n",
       "    }\n",
       "</style>\n",
       "<table border=\"1\" class=\"dataframe\">\n",
       "  <thead>\n",
       "    <tr style=\"text-align: right;\">\n",
       "      <th>gender_id</th>\n",
       "      <th>1.0</th>\n",
       "      <th>2.0</th>\n",
       "    </tr>\n",
       "    <tr>\n",
       "      <th>app_name</th>\n",
       "      <th></th>\n",
       "      <th></th>\n",
       "    </tr>\n",
       "  </thead>\n",
       "  <tbody>\n",
       "    <tr>\n",
       "      <td>Amazon Mobile (Mobile App)</td>\n",
       "      <td>602</td>\n",
       "      <td>965</td>\n",
       "    </tr>\n",
       "    <tr>\n",
       "      <td>Amazon Music with Prime Music (Mobile App)</td>\n",
       "      <td>96</td>\n",
       "      <td>188</td>\n",
       "    </tr>\n",
       "    <tr>\n",
       "      <td>Facebook (Mobile App)</td>\n",
       "      <td>897</td>\n",
       "      <td>1478</td>\n",
       "    </tr>\n",
       "    <tr>\n",
       "      <td>Facebook Messenger (Mobile App)</td>\n",
       "      <td>910</td>\n",
       "      <td>1519</td>\n",
       "    </tr>\n",
       "    <tr>\n",
       "      <td>Google Play (Mobile App)</td>\n",
       "      <td>1015</td>\n",
       "      <td>1650</td>\n",
       "    </tr>\n",
       "    <tr>\n",
       "      <td>Google Search (Mobile App)</td>\n",
       "      <td>966</td>\n",
       "      <td>1578</td>\n",
       "    </tr>\n",
       "    <tr>\n",
       "      <td>GroupMe (Mobile App)</td>\n",
       "      <td>56</td>\n",
       "      <td>106</td>\n",
       "    </tr>\n",
       "    <tr>\n",
       "      <td>Instagram (Mobile App)</td>\n",
       "      <td>601</td>\n",
       "      <td>1021</td>\n",
       "    </tr>\n",
       "    <tr>\n",
       "      <td>Kindle (Mobile App)</td>\n",
       "      <td>123</td>\n",
       "      <td>200</td>\n",
       "    </tr>\n",
       "    <tr>\n",
       "      <td>Microsoft Word (Mobile App)</td>\n",
       "      <td>72</td>\n",
       "      <td>144</td>\n",
       "    </tr>\n",
       "    <tr>\n",
       "      <td>Netflix (Mobile App)</td>\n",
       "      <td>285</td>\n",
       "      <td>492</td>\n",
       "    </tr>\n",
       "    <tr>\n",
       "      <td>Outlook (Mobile App)</td>\n",
       "      <td>111</td>\n",
       "      <td>214</td>\n",
       "    </tr>\n",
       "    <tr>\n",
       "      <td>Pinterest (Mobile App)</td>\n",
       "      <td>317</td>\n",
       "      <td>581</td>\n",
       "    </tr>\n",
       "    <tr>\n",
       "      <td>Sam's Club (Mobile App)</td>\n",
       "      <td>16</td>\n",
       "      <td>35</td>\n",
       "    </tr>\n",
       "    <tr>\n",
       "      <td>Sam's Club Scan &amp; Go (Mobile App)</td>\n",
       "      <td>10</td>\n",
       "      <td>32</td>\n",
       "    </tr>\n",
       "    <tr>\n",
       "      <td>Snapchat (Mobile App)</td>\n",
       "      <td>467</td>\n",
       "      <td>800</td>\n",
       "    </tr>\n",
       "    <tr>\n",
       "      <td>Tumblr (Mobile App)</td>\n",
       "      <td>88</td>\n",
       "      <td>127</td>\n",
       "    </tr>\n",
       "    <tr>\n",
       "      <td>Walmart (Mobile App)</td>\n",
       "      <td>251</td>\n",
       "      <td>467</td>\n",
       "    </tr>\n",
       "    <tr>\n",
       "      <td>Yahoo Mail (Mobile App)</td>\n",
       "      <td>224</td>\n",
       "      <td>391</td>\n",
       "    </tr>\n",
       "    <tr>\n",
       "      <td>Yahoo Newsroom (Mobile App)</td>\n",
       "      <td>26</td>\n",
       "      <td>59</td>\n",
       "    </tr>\n",
       "    <tr>\n",
       "      <td>YouTube (Mobile App)</td>\n",
       "      <td>948</td>\n",
       "      <td>1517</td>\n",
       "    </tr>\n",
       "  </tbody>\n",
       "</table>\n",
       "</div>"
      ],
      "text/plain": [
       "gender_id                                    1.0   2.0\n",
       "app_name                                              \n",
       "Amazon Mobile (Mobile App)                   602   965\n",
       "Amazon Music with Prime Music (Mobile App)    96   188\n",
       "Facebook (Mobile App)                        897  1478\n",
       "Facebook Messenger (Mobile App)              910  1519\n",
       "Google Play (Mobile App)                    1015  1650\n",
       "Google Search (Mobile App)                   966  1578\n",
       "GroupMe (Mobile App)                          56   106\n",
       "Instagram (Mobile App)                       601  1021\n",
       "Kindle (Mobile App)                          123   200\n",
       "Microsoft Word (Mobile App)                   72   144\n",
       "Netflix (Mobile App)                         285   492\n",
       "Outlook (Mobile App)                         111   214\n",
       "Pinterest (Mobile App)                       317   581\n",
       "Sam's Club (Mobile App)                       16    35\n",
       "Sam's Club Scan & Go (Mobile App)             10    32\n",
       "Snapchat (Mobile App)                        467   800\n",
       "Tumblr (Mobile App)                           88   127\n",
       "Walmart (Mobile App)                         251   467\n",
       "Yahoo Mail (Mobile App)                      224   391\n",
       "Yahoo Newsroom (Mobile App)                   26    59\n",
       "YouTube (Mobile App)                         948  1517"
      ]
     },
     "execution_count": 34,
     "metadata": {},
     "output_type": "execute_result"
    }
   ],
   "source": [
    "crosstab"
   ]
  },
  {
   "cell_type": "code",
   "execution_count": 35,
   "metadata": {},
   "outputs": [],
   "source": [
    "crosstab=pd.crosstab(index=data[\"Publisher\"],columns=data['gender_id'])"
   ]
  },
  {
   "cell_type": "code",
   "execution_count": 36,
   "metadata": {},
   "outputs": [
    {
     "data": {
      "text/html": [
       "<div>\n",
       "<style scoped>\n",
       "    .dataframe tbody tr th:only-of-type {\n",
       "        vertical-align: middle;\n",
       "    }\n",
       "\n",
       "    .dataframe tbody tr th {\n",
       "        vertical-align: top;\n",
       "    }\n",
       "\n",
       "    .dataframe thead th {\n",
       "        text-align: right;\n",
       "    }\n",
       "</style>\n",
       "<table border=\"1\" class=\"dataframe\">\n",
       "  <thead>\n",
       "    <tr style=\"text-align: right;\">\n",
       "      <th>gender_id</th>\n",
       "      <th>1.0</th>\n",
       "      <th>2.0</th>\n",
       "    </tr>\n",
       "    <tr>\n",
       "      <th>Publisher</th>\n",
       "      <th></th>\n",
       "      <th></th>\n",
       "    </tr>\n",
       "  </thead>\n",
       "  <tbody>\n",
       "    <tr>\n",
       "      <td>Amazon Sites</td>\n",
       "      <td>821</td>\n",
       "      <td>1353</td>\n",
       "    </tr>\n",
       "    <tr>\n",
       "      <td>Facebook</td>\n",
       "      <td>2408</td>\n",
       "      <td>4018</td>\n",
       "    </tr>\n",
       "    <tr>\n",
       "      <td>Google Sites</td>\n",
       "      <td>2929</td>\n",
       "      <td>4745</td>\n",
       "    </tr>\n",
       "    <tr>\n",
       "      <td>Microsoft Sites</td>\n",
       "      <td>239</td>\n",
       "      <td>464</td>\n",
       "    </tr>\n",
       "    <tr>\n",
       "      <td>Netflix Inc.</td>\n",
       "      <td>285</td>\n",
       "      <td>492</td>\n",
       "    </tr>\n",
       "    <tr>\n",
       "      <td>Oath</td>\n",
       "      <td>338</td>\n",
       "      <td>577</td>\n",
       "    </tr>\n",
       "    <tr>\n",
       "      <td>Pinterest</td>\n",
       "      <td>317</td>\n",
       "      <td>581</td>\n",
       "    </tr>\n",
       "    <tr>\n",
       "      <td>Snapchat, Inc</td>\n",
       "      <td>467</td>\n",
       "      <td>800</td>\n",
       "    </tr>\n",
       "    <tr>\n",
       "      <td>Wal-Mart</td>\n",
       "      <td>277</td>\n",
       "      <td>534</td>\n",
       "    </tr>\n",
       "  </tbody>\n",
       "</table>\n",
       "</div>"
      ],
      "text/plain": [
       "gender_id         1.0   2.0\n",
       "Publisher                  \n",
       "Amazon Sites      821  1353\n",
       "Facebook         2408  4018\n",
       "Google Sites     2929  4745\n",
       "Microsoft Sites   239   464\n",
       "Netflix Inc.      285   492\n",
       "Oath              338   577\n",
       "Pinterest         317   581\n",
       "Snapchat, Inc     467   800\n",
       "Wal-Mart          277   534"
      ]
     },
     "execution_count": 36,
     "metadata": {},
     "output_type": "execute_result"
    }
   ],
   "source": [
    "crosstab"
   ]
  },
  {
   "cell_type": "markdown",
   "metadata": {},
   "source": [
    "From above results we can clearly state that dataset is inclined towards gender_id whose value is 2. We are using ffill"
   ]
  },
  {
   "cell_type": "code",
   "execution_count": 37,
   "metadata": {},
   "outputs": [],
   "source": [
    "data['gender_id'].fillna(method='ffill',inplace=True)"
   ]
  },
  {
   "cell_type": "code",
   "execution_count": 38,
   "metadata": {},
   "outputs": [
    {
     "data": {
      "text/plain": [
       "index        0\n",
       "device_id    0\n",
       "app_name     0\n",
       "minutes      0\n",
       "gender_id    0\n",
       "Publisher    0\n",
       "dtype: int64"
      ]
     },
     "execution_count": 38,
     "metadata": {},
     "output_type": "execute_result"
    }
   ],
   "source": [
    "data.isnull().sum()"
   ]
  },
  {
   "cell_type": "markdown",
   "metadata": {},
   "source": [
    "All null values is atken care."
   ]
  },
  {
   "cell_type": "markdown",
   "metadata": {},
   "source": [
    "# statistical data -app wise"
   ]
  },
  {
   "cell_type": "code",
   "execution_count": 39,
   "metadata": {},
   "outputs": [],
   "source": [
    "stat=pd.DataFrame(data.groupby('app_name')['minutes'].describe())"
   ]
  },
  {
   "cell_type": "code",
   "execution_count": 40,
   "metadata": {},
   "outputs": [
    {
     "data": {
      "text/html": [
       "<div>\n",
       "<style scoped>\n",
       "    .dataframe tbody tr th:only-of-type {\n",
       "        vertical-align: middle;\n",
       "    }\n",
       "\n",
       "    .dataframe tbody tr th {\n",
       "        vertical-align: top;\n",
       "    }\n",
       "\n",
       "    .dataframe thead th {\n",
       "        text-align: right;\n",
       "    }\n",
       "</style>\n",
       "<table border=\"1\" class=\"dataframe\">\n",
       "  <thead>\n",
       "    <tr style=\"text-align: right;\">\n",
       "      <th></th>\n",
       "      <th>count</th>\n",
       "      <th>mean</th>\n",
       "      <th>std</th>\n",
       "      <th>min</th>\n",
       "      <th>25%</th>\n",
       "      <th>50%</th>\n",
       "      <th>75%</th>\n",
       "      <th>max</th>\n",
       "    </tr>\n",
       "    <tr>\n",
       "      <th>app_name</th>\n",
       "      <th></th>\n",
       "      <th></th>\n",
       "      <th></th>\n",
       "      <th></th>\n",
       "      <th></th>\n",
       "      <th></th>\n",
       "      <th></th>\n",
       "      <th></th>\n",
       "    </tr>\n",
       "  </thead>\n",
       "  <tbody>\n",
       "    <tr>\n",
       "      <td>Amazon Mobile (Mobile App)</td>\n",
       "      <td>1625.0</td>\n",
       "      <td>144.841619</td>\n",
       "      <td>310.827761</td>\n",
       "      <td>0.0378</td>\n",
       "      <td>11.15100</td>\n",
       "      <td>50.9544</td>\n",
       "      <td>147.533400</td>\n",
       "      <td>5009.7096</td>\n",
       "    </tr>\n",
       "    <tr>\n",
       "      <td>Amazon Music with Prime Music (Mobile App)</td>\n",
       "      <td>295.0</td>\n",
       "      <td>187.148590</td>\n",
       "      <td>448.933418</td>\n",
       "      <td>0.0378</td>\n",
       "      <td>3.62880</td>\n",
       "      <td>36.9684</td>\n",
       "      <td>175.883400</td>\n",
       "      <td>3864.5208</td>\n",
       "    </tr>\n",
       "    <tr>\n",
       "      <td>Facebook (Mobile App)</td>\n",
       "      <td>2455.0</td>\n",
       "      <td>3613.551220</td>\n",
       "      <td>3243.764578</td>\n",
       "      <td>0.0756</td>\n",
       "      <td>1095.68970</td>\n",
       "      <td>2969.0766</td>\n",
       "      <td>5196.139200</td>\n",
       "      <td>25093.9080</td>\n",
       "    </tr>\n",
       "    <tr>\n",
       "      <td>Facebook Messenger (Mobile App)</td>\n",
       "      <td>2522.0</td>\n",
       "      <td>2478.538655</td>\n",
       "      <td>3032.244591</td>\n",
       "      <td>0.0378</td>\n",
       "      <td>420.19425</td>\n",
       "      <td>1453.9959</td>\n",
       "      <td>3265.683750</td>\n",
       "      <td>23060.7594</td>\n",
       "    </tr>\n",
       "    <tr>\n",
       "      <td>Google Play (Mobile App)</td>\n",
       "      <td>2761.0</td>\n",
       "      <td>148.563952</td>\n",
       "      <td>548.597522</td>\n",
       "      <td>0.1512</td>\n",
       "      <td>24.83460</td>\n",
       "      <td>60.4800</td>\n",
       "      <td>148.563952</td>\n",
       "      <td>18907.4844</td>\n",
       "    </tr>\n",
       "    <tr>\n",
       "      <td>Google Search (Mobile App)</td>\n",
       "      <td>2638.0</td>\n",
       "      <td>502.334796</td>\n",
       "      <td>1909.067756</td>\n",
       "      <td>0.0378</td>\n",
       "      <td>18.31410</td>\n",
       "      <td>132.9237</td>\n",
       "      <td>416.395350</td>\n",
       "      <td>50897.4354</td>\n",
       "    </tr>\n",
       "    <tr>\n",
       "      <td>GroupMe (Mobile App)</td>\n",
       "      <td>170.0</td>\n",
       "      <td>169.576006</td>\n",
       "      <td>275.806266</td>\n",
       "      <td>0.2268</td>\n",
       "      <td>16.25400</td>\n",
       "      <td>67.0383</td>\n",
       "      <td>203.241150</td>\n",
       "      <td>1903.6080</td>\n",
       "    </tr>\n",
       "    <tr>\n",
       "      <td>Instagram (Mobile App)</td>\n",
       "      <td>1682.0</td>\n",
       "      <td>891.348522</td>\n",
       "      <td>1475.579461</td>\n",
       "      <td>0.0756</td>\n",
       "      <td>48.72420</td>\n",
       "      <td>271.5741</td>\n",
       "      <td>1006.292700</td>\n",
       "      <td>11940.7554</td>\n",
       "    </tr>\n",
       "    <tr>\n",
       "      <td>Kindle (Mobile App)</td>\n",
       "      <td>336.0</td>\n",
       "      <td>552.357383</td>\n",
       "      <td>1621.900463</td>\n",
       "      <td>0.0378</td>\n",
       "      <td>2.31525</td>\n",
       "      <td>26.3655</td>\n",
       "      <td>277.518150</td>\n",
       "      <td>14741.0928</td>\n",
       "    </tr>\n",
       "    <tr>\n",
       "      <td>Microsoft Word (Mobile App)</td>\n",
       "      <td>220.0</td>\n",
       "      <td>37.415700</td>\n",
       "      <td>93.236834</td>\n",
       "      <td>0.0756</td>\n",
       "      <td>2.70270</td>\n",
       "      <td>12.3795</td>\n",
       "      <td>36.144675</td>\n",
       "      <td>1079.7192</td>\n",
       "    </tr>\n",
       "    <tr>\n",
       "      <td>Netflix (Mobile App)</td>\n",
       "      <td>807.0</td>\n",
       "      <td>823.864267</td>\n",
       "      <td>2317.689503</td>\n",
       "      <td>0.0756</td>\n",
       "      <td>9.45000</td>\n",
       "      <td>100.7370</td>\n",
       "      <td>689.434200</td>\n",
       "      <td>29667.4812</td>\n",
       "    </tr>\n",
       "    <tr>\n",
       "      <td>Outlook (Mobile App)</td>\n",
       "      <td>333.0</td>\n",
       "      <td>283.224418</td>\n",
       "      <td>522.866477</td>\n",
       "      <td>0.0756</td>\n",
       "      <td>33.22620</td>\n",
       "      <td>108.8640</td>\n",
       "      <td>343.828800</td>\n",
       "      <td>5977.8432</td>\n",
       "    </tr>\n",
       "    <tr>\n",
       "      <td>Pinterest (Mobile App)</td>\n",
       "      <td>938.0</td>\n",
       "      <td>347.131685</td>\n",
       "      <td>621.343896</td>\n",
       "      <td>0.0378</td>\n",
       "      <td>17.41635</td>\n",
       "      <td>110.9241</td>\n",
       "      <td>360.999450</td>\n",
       "      <td>4791.4902</td>\n",
       "    </tr>\n",
       "    <tr>\n",
       "      <td>Sam's Club (Mobile App)</td>\n",
       "      <td>53.0</td>\n",
       "      <td>31.904654</td>\n",
       "      <td>56.454436</td>\n",
       "      <td>0.3024</td>\n",
       "      <td>4.49820</td>\n",
       "      <td>9.2610</td>\n",
       "      <td>27.367200</td>\n",
       "      <td>317.5578</td>\n",
       "    </tr>\n",
       "    <tr>\n",
       "      <td>Sam's Club Scan &amp; Go (Mobile App)</td>\n",
       "      <td>43.0</td>\n",
       "      <td>33.803749</td>\n",
       "      <td>64.633239</td>\n",
       "      <td>0.0378</td>\n",
       "      <td>0.98280</td>\n",
       "      <td>3.3264</td>\n",
       "      <td>37.459800</td>\n",
       "      <td>282.8574</td>\n",
       "    </tr>\n",
       "    <tr>\n",
       "      <td>Snapchat (Mobile App)</td>\n",
       "      <td>1317.0</td>\n",
       "      <td>645.375175</td>\n",
       "      <td>1039.999994</td>\n",
       "      <td>0.0756</td>\n",
       "      <td>46.83420</td>\n",
       "      <td>230.0508</td>\n",
       "      <td>800.452800</td>\n",
       "      <td>12171.9402</td>\n",
       "    </tr>\n",
       "    <tr>\n",
       "      <td>Tumblr (Mobile App)</td>\n",
       "      <td>221.0</td>\n",
       "      <td>836.755599</td>\n",
       "      <td>2046.173849</td>\n",
       "      <td>0.0756</td>\n",
       "      <td>35.26740</td>\n",
       "      <td>260.7444</td>\n",
       "      <td>836.755599</td>\n",
       "      <td>19528.4628</td>\n",
       "    </tr>\n",
       "    <tr>\n",
       "      <td>Walmart (Mobile App)</td>\n",
       "      <td>747.0</td>\n",
       "      <td>75.987895</td>\n",
       "      <td>127.911263</td>\n",
       "      <td>0.0378</td>\n",
       "      <td>11.58570</td>\n",
       "      <td>33.3018</td>\n",
       "      <td>82.347300</td>\n",
       "      <td>1318.5396</td>\n",
       "    </tr>\n",
       "    <tr>\n",
       "      <td>Yahoo Mail (Mobile App)</td>\n",
       "      <td>630.0</td>\n",
       "      <td>382.923544</td>\n",
       "      <td>562.574337</td>\n",
       "      <td>0.0378</td>\n",
       "      <td>38.37645</td>\n",
       "      <td>183.5946</td>\n",
       "      <td>482.828850</td>\n",
       "      <td>4023.1674</td>\n",
       "    </tr>\n",
       "    <tr>\n",
       "      <td>Yahoo Newsroom (Mobile App)</td>\n",
       "      <td>89.0</td>\n",
       "      <td>148.970669</td>\n",
       "      <td>442.760419</td>\n",
       "      <td>0.1134</td>\n",
       "      <td>11.71800</td>\n",
       "      <td>40.2948</td>\n",
       "      <td>130.599000</td>\n",
       "      <td>3920.9940</td>\n",
       "    </tr>\n",
       "    <tr>\n",
       "      <td>YouTube (Mobile App)</td>\n",
       "      <td>2558.0</td>\n",
       "      <td>1014.367789</td>\n",
       "      <td>2291.423784</td>\n",
       "      <td>0.0756</td>\n",
       "      <td>44.09370</td>\n",
       "      <td>228.4254</td>\n",
       "      <td>983.934000</td>\n",
       "      <td>31266.6102</td>\n",
       "    </tr>\n",
       "  </tbody>\n",
       "</table>\n",
       "</div>"
      ],
      "text/plain": [
       "                                             count         mean          std  \\\n",
       "app_name                                                                       \n",
       "Amazon Mobile (Mobile App)                  1625.0   144.841619   310.827761   \n",
       "Amazon Music with Prime Music (Mobile App)   295.0   187.148590   448.933418   \n",
       "Facebook (Mobile App)                       2455.0  3613.551220  3243.764578   \n",
       "Facebook Messenger (Mobile App)             2522.0  2478.538655  3032.244591   \n",
       "Google Play (Mobile App)                    2761.0   148.563952   548.597522   \n",
       "Google Search (Mobile App)                  2638.0   502.334796  1909.067756   \n",
       "GroupMe (Mobile App)                         170.0   169.576006   275.806266   \n",
       "Instagram (Mobile App)                      1682.0   891.348522  1475.579461   \n",
       "Kindle (Mobile App)                          336.0   552.357383  1621.900463   \n",
       "Microsoft Word (Mobile App)                  220.0    37.415700    93.236834   \n",
       "Netflix (Mobile App)                         807.0   823.864267  2317.689503   \n",
       "Outlook (Mobile App)                         333.0   283.224418   522.866477   \n",
       "Pinterest (Mobile App)                       938.0   347.131685   621.343896   \n",
       "Sam's Club (Mobile App)                       53.0    31.904654    56.454436   \n",
       "Sam's Club Scan & Go (Mobile App)             43.0    33.803749    64.633239   \n",
       "Snapchat (Mobile App)                       1317.0   645.375175  1039.999994   \n",
       "Tumblr (Mobile App)                          221.0   836.755599  2046.173849   \n",
       "Walmart (Mobile App)                         747.0    75.987895   127.911263   \n",
       "Yahoo Mail (Mobile App)                      630.0   382.923544   562.574337   \n",
       "Yahoo Newsroom (Mobile App)                   89.0   148.970669   442.760419   \n",
       "YouTube (Mobile App)                        2558.0  1014.367789  2291.423784   \n",
       "\n",
       "                                               min         25%        50%  \\\n",
       "app_name                                                                    \n",
       "Amazon Mobile (Mobile App)                  0.0378    11.15100    50.9544   \n",
       "Amazon Music with Prime Music (Mobile App)  0.0378     3.62880    36.9684   \n",
       "Facebook (Mobile App)                       0.0756  1095.68970  2969.0766   \n",
       "Facebook Messenger (Mobile App)             0.0378   420.19425  1453.9959   \n",
       "Google Play (Mobile App)                    0.1512    24.83460    60.4800   \n",
       "Google Search (Mobile App)                  0.0378    18.31410   132.9237   \n",
       "GroupMe (Mobile App)                        0.2268    16.25400    67.0383   \n",
       "Instagram (Mobile App)                      0.0756    48.72420   271.5741   \n",
       "Kindle (Mobile App)                         0.0378     2.31525    26.3655   \n",
       "Microsoft Word (Mobile App)                 0.0756     2.70270    12.3795   \n",
       "Netflix (Mobile App)                        0.0756     9.45000   100.7370   \n",
       "Outlook (Mobile App)                        0.0756    33.22620   108.8640   \n",
       "Pinterest (Mobile App)                      0.0378    17.41635   110.9241   \n",
       "Sam's Club (Mobile App)                     0.3024     4.49820     9.2610   \n",
       "Sam's Club Scan & Go (Mobile App)           0.0378     0.98280     3.3264   \n",
       "Snapchat (Mobile App)                       0.0756    46.83420   230.0508   \n",
       "Tumblr (Mobile App)                         0.0756    35.26740   260.7444   \n",
       "Walmart (Mobile App)                        0.0378    11.58570    33.3018   \n",
       "Yahoo Mail (Mobile App)                     0.0378    38.37645   183.5946   \n",
       "Yahoo Newsroom (Mobile App)                 0.1134    11.71800    40.2948   \n",
       "YouTube (Mobile App)                        0.0756    44.09370   228.4254   \n",
       "\n",
       "                                                    75%         max  \n",
       "app_name                                                             \n",
       "Amazon Mobile (Mobile App)                   147.533400   5009.7096  \n",
       "Amazon Music with Prime Music (Mobile App)   175.883400   3864.5208  \n",
       "Facebook (Mobile App)                       5196.139200  25093.9080  \n",
       "Facebook Messenger (Mobile App)             3265.683750  23060.7594  \n",
       "Google Play (Mobile App)                     148.563952  18907.4844  \n",
       "Google Search (Mobile App)                   416.395350  50897.4354  \n",
       "GroupMe (Mobile App)                         203.241150   1903.6080  \n",
       "Instagram (Mobile App)                      1006.292700  11940.7554  \n",
       "Kindle (Mobile App)                          277.518150  14741.0928  \n",
       "Microsoft Word (Mobile App)                   36.144675   1079.7192  \n",
       "Netflix (Mobile App)                         689.434200  29667.4812  \n",
       "Outlook (Mobile App)                         343.828800   5977.8432  \n",
       "Pinterest (Mobile App)                       360.999450   4791.4902  \n",
       "Sam's Club (Mobile App)                       27.367200    317.5578  \n",
       "Sam's Club Scan & Go (Mobile App)             37.459800    282.8574  \n",
       "Snapchat (Mobile App)                        800.452800  12171.9402  \n",
       "Tumblr (Mobile App)                          836.755599  19528.4628  \n",
       "Walmart (Mobile App)                          82.347300   1318.5396  \n",
       "Yahoo Mail (Mobile App)                      482.828850   4023.1674  \n",
       "Yahoo Newsroom (Mobile App)                  130.599000   3920.9940  \n",
       "YouTube (Mobile App)                         983.934000  31266.6102  "
      ]
     },
     "execution_count": 40,
     "metadata": {},
     "output_type": "execute_result"
    }
   ],
   "source": [
    "stat"
   ]
  },
  {
   "cell_type": "code",
   "execution_count": 41,
   "metadata": {},
   "outputs": [],
   "source": [
    "stat.to_csv('stat.csv')"
   ]
  },
  {
   "cell_type": "markdown",
   "metadata": {},
   "source": [
    "# Rankings of individual Apps based on total users"
   ]
  },
  {
   "cell_type": "code",
   "execution_count": 42,
   "metadata": {},
   "outputs": [
    {
     "data": {
      "text/html": [
       "<div>\n",
       "<style scoped>\n",
       "    .dataframe tbody tr th:only-of-type {\n",
       "        vertical-align: middle;\n",
       "    }\n",
       "\n",
       "    .dataframe tbody tr th {\n",
       "        vertical-align: top;\n",
       "    }\n",
       "\n",
       "    .dataframe thead th {\n",
       "        text-align: right;\n",
       "    }\n",
       "</style>\n",
       "<table border=\"1\" class=\"dataframe\">\n",
       "  <thead>\n",
       "    <tr style=\"text-align: right;\">\n",
       "      <th></th>\n",
       "      <th>app_name</th>\n",
       "    </tr>\n",
       "  </thead>\n",
       "  <tbody>\n",
       "    <tr>\n",
       "      <td>Google Play (Mobile App)</td>\n",
       "      <td>2761</td>\n",
       "    </tr>\n",
       "    <tr>\n",
       "      <td>Google Search (Mobile App)</td>\n",
       "      <td>2638</td>\n",
       "    </tr>\n",
       "    <tr>\n",
       "      <td>YouTube (Mobile App)</td>\n",
       "      <td>2558</td>\n",
       "    </tr>\n",
       "    <tr>\n",
       "      <td>Facebook Messenger (Mobile App)</td>\n",
       "      <td>2522</td>\n",
       "    </tr>\n",
       "    <tr>\n",
       "      <td>Facebook (Mobile App)</td>\n",
       "      <td>2455</td>\n",
       "    </tr>\n",
       "    <tr>\n",
       "      <td>Instagram (Mobile App)</td>\n",
       "      <td>1682</td>\n",
       "    </tr>\n",
       "    <tr>\n",
       "      <td>Amazon Mobile (Mobile App)</td>\n",
       "      <td>1625</td>\n",
       "    </tr>\n",
       "    <tr>\n",
       "      <td>Snapchat (Mobile App)</td>\n",
       "      <td>1317</td>\n",
       "    </tr>\n",
       "    <tr>\n",
       "      <td>Pinterest (Mobile App)</td>\n",
       "      <td>938</td>\n",
       "    </tr>\n",
       "    <tr>\n",
       "      <td>Netflix (Mobile App)</td>\n",
       "      <td>807</td>\n",
       "    </tr>\n",
       "    <tr>\n",
       "      <td>Walmart (Mobile App)</td>\n",
       "      <td>747</td>\n",
       "    </tr>\n",
       "    <tr>\n",
       "      <td>Yahoo Mail (Mobile App)</td>\n",
       "      <td>630</td>\n",
       "    </tr>\n",
       "    <tr>\n",
       "      <td>Kindle (Mobile App)</td>\n",
       "      <td>336</td>\n",
       "    </tr>\n",
       "    <tr>\n",
       "      <td>Outlook (Mobile App)</td>\n",
       "      <td>333</td>\n",
       "    </tr>\n",
       "    <tr>\n",
       "      <td>Amazon Music with Prime Music (Mobile App)</td>\n",
       "      <td>295</td>\n",
       "    </tr>\n",
       "    <tr>\n",
       "      <td>Tumblr (Mobile App)</td>\n",
       "      <td>221</td>\n",
       "    </tr>\n",
       "    <tr>\n",
       "      <td>Microsoft Word (Mobile App)</td>\n",
       "      <td>220</td>\n",
       "    </tr>\n",
       "    <tr>\n",
       "      <td>GroupMe (Mobile App)</td>\n",
       "      <td>170</td>\n",
       "    </tr>\n",
       "    <tr>\n",
       "      <td>Yahoo Newsroom (Mobile App)</td>\n",
       "      <td>89</td>\n",
       "    </tr>\n",
       "    <tr>\n",
       "      <td>Sam's Club (Mobile App)</td>\n",
       "      <td>53</td>\n",
       "    </tr>\n",
       "    <tr>\n",
       "      <td>Sam's Club Scan &amp; Go (Mobile App)</td>\n",
       "      <td>43</td>\n",
       "    </tr>\n",
       "  </tbody>\n",
       "</table>\n",
       "</div>"
      ],
      "text/plain": [
       "                                            app_name\n",
       "Google Play (Mobile App)                        2761\n",
       "Google Search (Mobile App)                      2638\n",
       "YouTube (Mobile App)                            2558\n",
       "Facebook Messenger (Mobile App)                 2522\n",
       "Facebook (Mobile App)                           2455\n",
       "Instagram (Mobile App)                          1682\n",
       "Amazon Mobile (Mobile App)                      1625\n",
       "Snapchat (Mobile App)                           1317\n",
       "Pinterest (Mobile App)                           938\n",
       "Netflix (Mobile App)                             807\n",
       "Walmart (Mobile App)                             747\n",
       "Yahoo Mail (Mobile App)                          630\n",
       "Kindle (Mobile App)                              336\n",
       "Outlook (Mobile App)                             333\n",
       "Amazon Music with Prime Music (Mobile App)       295\n",
       "Tumblr (Mobile App)                              221\n",
       "Microsoft Word (Mobile App)                      220\n",
       "GroupMe (Mobile App)                             170\n",
       "Yahoo Newsroom (Mobile App)                       89\n",
       "Sam's Club (Mobile App)                           53\n",
       "Sam's Club Scan & Go (Mobile App)                 43"
      ]
     },
     "execution_count": 42,
     "metadata": {},
     "output_type": "execute_result"
    }
   ],
   "source": [
    "pd.DataFrame(data['app_name'].value_counts())"
   ]
  },
  {
   "cell_type": "code",
   "execution_count": 43,
   "metadata": {},
   "outputs": [],
   "source": [
    "res=pd.DataFrame(data['app_name'].value_counts())"
   ]
  },
  {
   "cell_type": "code",
   "execution_count": 44,
   "metadata": {},
   "outputs": [],
   "source": [
    "res.reset_index(level=0, inplace=True)"
   ]
  },
  {
   "cell_type": "markdown",
   "metadata": {},
   "source": [
    "Creating file for Rankings of individual Apps based on total users named \"Result1\""
   ]
  },
  {
   "cell_type": "code",
   "execution_count": 45,
   "metadata": {},
   "outputs": [],
   "source": [
    "f=open('Result1.txt','w')\n",
    "f.write(\"Rankings of individual Apps based on total users\\n\\n\")\n",
    "f.close()"
   ]
  },
  {
   "cell_type": "code",
   "execution_count": 46,
   "metadata": {},
   "outputs": [],
   "source": [
    "f=open('Result1.txt','a')\n",
    "for i in list(res.index):\n",
    "    appname=res.values[i][0]\n",
    "    usercount=str(res.values[i][1])\n",
    "    statement=str(i+1)+'. '+appname+'   '+usercount+'\\n'\n",
    "    f.write(statement)\n",
    "f.close()"
   ]
  },
  {
   "cell_type": "code",
   "execution_count": 47,
   "metadata": {},
   "outputs": [],
   "source": [
    "res.to_csv('result1.csv')"
   ]
  },
  {
   "cell_type": "markdown",
   "metadata": {},
   "source": [
    "# Rankings of individual Apps based average minutes per user"
   ]
  },
  {
   "cell_type": "code",
   "execution_count": 48,
   "metadata": {},
   "outputs": [
    {
     "data": {
      "text/html": [
       "<div>\n",
       "<style scoped>\n",
       "    .dataframe tbody tr th:only-of-type {\n",
       "        vertical-align: middle;\n",
       "    }\n",
       "\n",
       "    .dataframe tbody tr th {\n",
       "        vertical-align: top;\n",
       "    }\n",
       "\n",
       "    .dataframe thead th {\n",
       "        text-align: right;\n",
       "    }\n",
       "</style>\n",
       "<table border=\"1\" class=\"dataframe\">\n",
       "  <thead>\n",
       "    <tr style=\"text-align: right;\">\n",
       "      <th></th>\n",
       "      <th>minutes</th>\n",
       "    </tr>\n",
       "    <tr>\n",
       "      <th>app_name</th>\n",
       "      <th></th>\n",
       "    </tr>\n",
       "  </thead>\n",
       "  <tbody>\n",
       "    <tr>\n",
       "      <td>Facebook (Mobile App)</td>\n",
       "      <td>3613.551220</td>\n",
       "    </tr>\n",
       "    <tr>\n",
       "      <td>Facebook Messenger (Mobile App)</td>\n",
       "      <td>2478.538655</td>\n",
       "    </tr>\n",
       "    <tr>\n",
       "      <td>YouTube (Mobile App)</td>\n",
       "      <td>1014.367789</td>\n",
       "    </tr>\n",
       "    <tr>\n",
       "      <td>Instagram (Mobile App)</td>\n",
       "      <td>891.348522</td>\n",
       "    </tr>\n",
       "    <tr>\n",
       "      <td>Tumblr (Mobile App)</td>\n",
       "      <td>836.755599</td>\n",
       "    </tr>\n",
       "    <tr>\n",
       "      <td>Netflix (Mobile App)</td>\n",
       "      <td>823.864267</td>\n",
       "    </tr>\n",
       "    <tr>\n",
       "      <td>Snapchat (Mobile App)</td>\n",
       "      <td>645.375175</td>\n",
       "    </tr>\n",
       "    <tr>\n",
       "      <td>Kindle (Mobile App)</td>\n",
       "      <td>552.357383</td>\n",
       "    </tr>\n",
       "    <tr>\n",
       "      <td>Google Search (Mobile App)</td>\n",
       "      <td>502.334796</td>\n",
       "    </tr>\n",
       "    <tr>\n",
       "      <td>Yahoo Mail (Mobile App)</td>\n",
       "      <td>382.923544</td>\n",
       "    </tr>\n",
       "    <tr>\n",
       "      <td>Pinterest (Mobile App)</td>\n",
       "      <td>347.131685</td>\n",
       "    </tr>\n",
       "    <tr>\n",
       "      <td>Outlook (Mobile App)</td>\n",
       "      <td>283.224418</td>\n",
       "    </tr>\n",
       "    <tr>\n",
       "      <td>Amazon Music with Prime Music (Mobile App)</td>\n",
       "      <td>187.148590</td>\n",
       "    </tr>\n",
       "    <tr>\n",
       "      <td>GroupMe (Mobile App)</td>\n",
       "      <td>169.576006</td>\n",
       "    </tr>\n",
       "    <tr>\n",
       "      <td>Yahoo Newsroom (Mobile App)</td>\n",
       "      <td>148.970669</td>\n",
       "    </tr>\n",
       "    <tr>\n",
       "      <td>Google Play (Mobile App)</td>\n",
       "      <td>148.563952</td>\n",
       "    </tr>\n",
       "    <tr>\n",
       "      <td>Amazon Mobile (Mobile App)</td>\n",
       "      <td>144.841619</td>\n",
       "    </tr>\n",
       "    <tr>\n",
       "      <td>Walmart (Mobile App)</td>\n",
       "      <td>75.987895</td>\n",
       "    </tr>\n",
       "    <tr>\n",
       "      <td>Microsoft Word (Mobile App)</td>\n",
       "      <td>37.415700</td>\n",
       "    </tr>\n",
       "    <tr>\n",
       "      <td>Sam's Club Scan &amp; Go (Mobile App)</td>\n",
       "      <td>33.803749</td>\n",
       "    </tr>\n",
       "    <tr>\n",
       "      <td>Sam's Club (Mobile App)</td>\n",
       "      <td>31.904654</td>\n",
       "    </tr>\n",
       "  </tbody>\n",
       "</table>\n",
       "</div>"
      ],
      "text/plain": [
       "                                                minutes\n",
       "app_name                                               \n",
       "Facebook (Mobile App)                       3613.551220\n",
       "Facebook Messenger (Mobile App)             2478.538655\n",
       "YouTube (Mobile App)                        1014.367789\n",
       "Instagram (Mobile App)                       891.348522\n",
       "Tumblr (Mobile App)                          836.755599\n",
       "Netflix (Mobile App)                         823.864267\n",
       "Snapchat (Mobile App)                        645.375175\n",
       "Kindle (Mobile App)                          552.357383\n",
       "Google Search (Mobile App)                   502.334796\n",
       "Yahoo Mail (Mobile App)                      382.923544\n",
       "Pinterest (Mobile App)                       347.131685\n",
       "Outlook (Mobile App)                         283.224418\n",
       "Amazon Music with Prime Music (Mobile App)   187.148590\n",
       "GroupMe (Mobile App)                         169.576006\n",
       "Yahoo Newsroom (Mobile App)                  148.970669\n",
       "Google Play (Mobile App)                     148.563952\n",
       "Amazon Mobile (Mobile App)                   144.841619\n",
       "Walmart (Mobile App)                          75.987895\n",
       "Microsoft Word (Mobile App)                   37.415700\n",
       "Sam's Club Scan & Go (Mobile App)             33.803749\n",
       "Sam's Club (Mobile App)                       31.904654"
      ]
     },
     "execution_count": 48,
     "metadata": {},
     "output_type": "execute_result"
    }
   ],
   "source": [
    "pd.DataFrame(data.groupby('app_name').mean()['minutes'].sort_values(ascending=False))\n"
   ]
  },
  {
   "cell_type": "code",
   "execution_count": 49,
   "metadata": {},
   "outputs": [],
   "source": [
    "res=pd.DataFrame(data.groupby('app_name').mean()['minutes'].sort_values(ascending=False))"
   ]
  },
  {
   "cell_type": "code",
   "execution_count": 50,
   "metadata": {},
   "outputs": [],
   "source": [
    "res.reset_index(level=0, inplace=True)"
   ]
  },
  {
   "cell_type": "markdown",
   "metadata": {},
   "source": [
    "Creating file for Rankings of individual Apps based average minutes per user named \"Result2\""
   ]
  },
  {
   "cell_type": "code",
   "execution_count": 51,
   "metadata": {},
   "outputs": [],
   "source": [
    "f=open('Result2.txt','w')\n",
    "f.write(\"Rankings of individual Apps based average minutes per user\\n\\n\")\n",
    "f.close()"
   ]
  },
  {
   "cell_type": "code",
   "execution_count": 52,
   "metadata": {},
   "outputs": [],
   "source": [
    "f=open('Result2.txt','a')\n",
    "for i in list(res.index):\n",
    "    appname=res.values[i][0]\n",
    "    meanmin=str(res.values[i][1])\n",
    "    statement=str(i+1)+'. '+appname+'   '+meanmin+'\\n'\n",
    "    f.write(statement)\n",
    "f.close()"
   ]
  },
  {
   "cell_type": "code",
   "execution_count": 53,
   "metadata": {},
   "outputs": [],
   "source": [
    "res.to_csv('result2.csv')"
   ]
  },
  {
   "cell_type": "markdown",
   "metadata": {},
   "source": [
    "# Rankings of the publishers as per total devices across applications"
   ]
  },
  {
   "cell_type": "code",
   "execution_count": 54,
   "metadata": {},
   "outputs": [
    {
     "data": {
      "text/html": [
       "<div>\n",
       "<style scoped>\n",
       "    .dataframe tbody tr th:only-of-type {\n",
       "        vertical-align: middle;\n",
       "    }\n",
       "\n",
       "    .dataframe tbody tr th {\n",
       "        vertical-align: top;\n",
       "    }\n",
       "\n",
       "    .dataframe thead th {\n",
       "        text-align: right;\n",
       "    }\n",
       "</style>\n",
       "<table border=\"1\" class=\"dataframe\">\n",
       "  <thead>\n",
       "    <tr style=\"text-align: right;\">\n",
       "      <th></th>\n",
       "      <th>Publisher</th>\n",
       "    </tr>\n",
       "  </thead>\n",
       "  <tbody>\n",
       "    <tr>\n",
       "      <td>Google Sites</td>\n",
       "      <td>7957</td>\n",
       "    </tr>\n",
       "    <tr>\n",
       "      <td>Facebook</td>\n",
       "      <td>6659</td>\n",
       "    </tr>\n",
       "    <tr>\n",
       "      <td>Amazon Sites</td>\n",
       "      <td>2256</td>\n",
       "    </tr>\n",
       "    <tr>\n",
       "      <td>Snapchat, Inc</td>\n",
       "      <td>1317</td>\n",
       "    </tr>\n",
       "    <tr>\n",
       "      <td>Oath</td>\n",
       "      <td>940</td>\n",
       "    </tr>\n",
       "    <tr>\n",
       "      <td>Pinterest</td>\n",
       "      <td>938</td>\n",
       "    </tr>\n",
       "    <tr>\n",
       "      <td>Wal-Mart</td>\n",
       "      <td>843</td>\n",
       "    </tr>\n",
       "    <tr>\n",
       "      <td>Netflix Inc.</td>\n",
       "      <td>807</td>\n",
       "    </tr>\n",
       "    <tr>\n",
       "      <td>Microsoft Sites</td>\n",
       "      <td>723</td>\n",
       "    </tr>\n",
       "  </tbody>\n",
       "</table>\n",
       "</div>"
      ],
      "text/plain": [
       "                 Publisher\n",
       "Google Sites          7957\n",
       "Facebook              6659\n",
       "Amazon Sites          2256\n",
       "Snapchat, Inc         1317\n",
       "Oath                   940\n",
       "Pinterest              938\n",
       "Wal-Mart               843\n",
       "Netflix Inc.           807\n",
       "Microsoft Sites        723"
      ]
     },
     "execution_count": 54,
     "metadata": {},
     "output_type": "execute_result"
    }
   ],
   "source": [
    "pd.DataFrame(data['Publisher'].value_counts())"
   ]
  },
  {
   "cell_type": "markdown",
   "metadata": {},
   "source": [
    "As publisher consists of multiple times due to many apps under it. We need to count unique device devices so performed below operation."
   ]
  },
  {
   "cell_type": "code",
   "execution_count": 55,
   "metadata": {},
   "outputs": [],
   "source": [
    "data1=data[['device_id','Publisher']].drop_duplicates()"
   ]
  },
  {
   "cell_type": "code",
   "execution_count": 56,
   "metadata": {},
   "outputs": [
    {
     "data": {
      "text/html": [
       "<div>\n",
       "<style scoped>\n",
       "    .dataframe tbody tr th:only-of-type {\n",
       "        vertical-align: middle;\n",
       "    }\n",
       "\n",
       "    .dataframe tbody tr th {\n",
       "        vertical-align: top;\n",
       "    }\n",
       "\n",
       "    .dataframe thead th {\n",
       "        text-align: right;\n",
       "    }\n",
       "</style>\n",
       "<table border=\"1\" class=\"dataframe\">\n",
       "  <thead>\n",
       "    <tr style=\"text-align: right;\">\n",
       "      <th></th>\n",
       "      <th>Publisher</th>\n",
       "    </tr>\n",
       "  </thead>\n",
       "  <tbody>\n",
       "    <tr>\n",
       "      <td>Google Sites</td>\n",
       "      <td>2771</td>\n",
       "    </tr>\n",
       "    <tr>\n",
       "      <td>Facebook</td>\n",
       "      <td>2665</td>\n",
       "    </tr>\n",
       "    <tr>\n",
       "      <td>Amazon Sites</td>\n",
       "      <td>1740</td>\n",
       "    </tr>\n",
       "    <tr>\n",
       "      <td>Snapchat, Inc</td>\n",
       "      <td>1317</td>\n",
       "    </tr>\n",
       "    <tr>\n",
       "      <td>Pinterest</td>\n",
       "      <td>938</td>\n",
       "    </tr>\n",
       "    <tr>\n",
       "      <td>Oath</td>\n",
       "      <td>860</td>\n",
       "    </tr>\n",
       "    <tr>\n",
       "      <td>Netflix Inc.</td>\n",
       "      <td>807</td>\n",
       "    </tr>\n",
       "    <tr>\n",
       "      <td>Wal-Mart</td>\n",
       "      <td>780</td>\n",
       "    </tr>\n",
       "    <tr>\n",
       "      <td>Microsoft Sites</td>\n",
       "      <td>597</td>\n",
       "    </tr>\n",
       "  </tbody>\n",
       "</table>\n",
       "</div>"
      ],
      "text/plain": [
       "                 Publisher\n",
       "Google Sites          2771\n",
       "Facebook              2665\n",
       "Amazon Sites          1740\n",
       "Snapchat, Inc         1317\n",
       "Pinterest              938\n",
       "Oath                   860\n",
       "Netflix Inc.           807\n",
       "Wal-Mart               780\n",
       "Microsoft Sites        597"
      ]
     },
     "execution_count": 56,
     "metadata": {},
     "output_type": "execute_result"
    }
   ],
   "source": [
    "pd.DataFrame(data1['Publisher'].value_counts())"
   ]
  },
  {
   "cell_type": "code",
   "execution_count": 57,
   "metadata": {},
   "outputs": [],
   "source": [
    "res=pd.DataFrame(data1['Publisher'].value_counts())"
   ]
  },
  {
   "cell_type": "code",
   "execution_count": 58,
   "metadata": {},
   "outputs": [],
   "source": [
    "res.reset_index(level=0, inplace=True)"
   ]
  },
  {
   "cell_type": "code",
   "execution_count": 59,
   "metadata": {},
   "outputs": [],
   "source": [
    "res.to_csv('result3.csv')"
   ]
  },
  {
   "cell_type": "markdown",
   "metadata": {},
   "source": [
    "Creating text file for Rankings of the publishers as per total devices across applications named \"Result3\""
   ]
  },
  {
   "cell_type": "code",
   "execution_count": 60,
   "metadata": {},
   "outputs": [],
   "source": [
    "f=open('Result3.txt','w')\n",
    "f.write(\"Rankings of the publishers as per total devices across applications\\n\\n\")\n",
    "f.close()"
   ]
  },
  {
   "cell_type": "code",
   "execution_count": 61,
   "metadata": {},
   "outputs": [],
   "source": [
    "f=open('Result3.txt','a')\n",
    "for i in list(res.index):\n",
    "    Publisher=res.values[i][0]\n",
    "    devicecount=str(res.values[i][1])\n",
    "    statement=str(i+1)+'. '+Publisher+'   '+devicecount+'\\n'\n",
    "    f.write(statement)\n",
    "f.close()"
   ]
  },
  {
   "cell_type": "code",
   "execution_count": null,
   "metadata": {},
   "outputs": [],
   "source": []
  }
 ],
 "metadata": {
  "kernelspec": {
   "display_name": "Python 3",
   "language": "python",
   "name": "python3"
  },
  "language_info": {
   "codemirror_mode": {
    "name": "ipython",
    "version": 3
   },
   "file_extension": ".py",
   "mimetype": "text/x-python",
   "name": "python",
   "nbconvert_exporter": "python",
   "pygments_lexer": "ipython3",
   "version": "3.7.4"
  }
 },
 "nbformat": 4,
 "nbformat_minor": 2
}
